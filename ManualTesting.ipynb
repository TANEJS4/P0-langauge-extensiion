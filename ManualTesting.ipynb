{
 "cells": [
  {
   "cell_type": "markdown",
   "metadata": {},
   "source": [
    "# Manual Testing"
   ]
  },
  {
   "cell_type": "code",
   "execution_count": 2,
   "metadata": {},
   "outputs": [],
   "source": [
    "import nbimporter; nbimporter.options[\"only_defs\"] = False\n",
    "from P0 import compileString\n",
    "\n",
    "def runwasm(wasmfile):\n",
    "    from IPython.core.display import display, Javascript\n",
    "    display(Javascript(\"\"\"\n",
    "    const params = { \n",
    "        P0lib: { \n",
    "            write: i => this.append_stream({text: '' + i, name: 'stdout'}),\n",
    "            writeln: () => this.append_stream({text: '\\\\n', name: 'stdout'}),\n",
    "            read: () => window.prompt()\n",
    "        }\n",
    "    }\n",
    "\n",
    "    fetch('\"\"\" + wasmfile + \"\"\"') // asynchronously fetch file, return Response object\n",
    "      .then(response => response.arrayBuffer()) // read the response to completion and stores it in an ArrayBuffer\n",
    "      .then(code => WebAssembly.compile(code)) // compile (sharable) code.wasm\n",
    "      .then(module => WebAssembly.instantiate(module, params)) // create an instance with memory\n",
    "    // .then(instance => instance.exports.program()); // run the main program; not needed if start function specified\n",
    "    \"\"\"))"
   ]
  },
  {
   "cell_type": "markdown",
   "metadata": {},
   "source": [
    "### Test Ensure"
   ]
  },
  {
   "cell_type": "code",
   "execution_count": 7,
   "metadata": {},
   "outputs": [],
   "source": [
    "compileString(\"\"\"\n",
    "procedure fact(n: integer) → (f: integer)\n",
    "    ensure f ≥ n\n",
    "    if n = 0 then f := 1\n",
    "    else\n",
    "        f ← fact(n - 1); f := f × n\n",
    "\n",
    "program factorial\n",
    "    var y, z: integer\n",
    "        y ← read(); z ← fact(y); write(z)\n",
    "        \n",
    "\"\"\", 'testensure.wat')"
   ]
  },
  {
   "cell_type": "code",
   "execution_count": 4,
   "metadata": {},
   "outputs": [],
   "source": [
    "# !type testensure.wat"
   ]
  },
  {
   "cell_type": "code",
   "execution_count": 5,
   "metadata": {},
   "outputs": [],
   "source": [
    "!wsl.exe wat2wasm testensure.wat"
   ]
  },
  {
   "cell_type": "code",
   "execution_count": 6,
   "metadata": {},
   "outputs": [
    {
     "data": {
      "application/javascript": "\n    const params = { \n        P0lib: { \n            write: i => this.append_stream({text: '' + i, name: 'stdout'}),\n            writeln: () => this.append_stream({text: '\\n', name: 'stdout'}),\n            read: () => window.prompt()\n        }\n    }\n\n    fetch('testensure.wasm') // asynchronously fetch file, return Response object\n      .then(response => response.arrayBuffer()) // read the response to completion and stores it in an ArrayBuffer\n      .then(code => WebAssembly.compile(code)) // compile (sharable) code.wasm\n      .then(module => WebAssembly.instantiate(module, params)) // create an instance with memory\n    // .then(instance => instance.exports.program()); // run the main program; not needed if start function specified\n    ",
      "text/plain": [
       "<IPython.core.display.Javascript object>"
      ]
     },
     "metadata": {},
     "output_type": "display_data"
    }
   ],
   "source": [
    "runwasm(\"testensure.wasm\")"
   ]
  },
  {
   "cell_type": "code",
   "execution_count": 3,
   "metadata": {},
   "outputs": [
    {
     "name": "stdout",
     "output_type": "stream",
     "text": [
      "['local.get $n', 'i32.const 5', 'i32.lt_s']\n",
      "Var(name = , lev = -1, tp = <class 'ST.Bool'>)\n"
     ]
    },
    {
     "ename": "Exception",
     "evalue": "'tuple' object has no attribute 'append'",
     "output_type": "error",
     "traceback": [
      "\u001b[1;31m---------------------------------------------------------------------------\u001b[0m",
      "\u001b[1;31mAttributeError\u001b[0m                            Traceback (most recent call last)",
      "\u001b[1;32m~\\Documents\\McMaster\\2022_Winter\\TB3\\group-08\\P0.ipynb\u001b[0m in \u001b[0;36mcompileString\u001b[1;34m(src, dstfn, target)\u001b[0m\n\u001b[0;32m      7\u001b[0m    },\n\u001b[1;32m----> 8\u001b[1;33m    \"source\": [\n\u001b[0m\u001b[0;32m      9\u001b[0m     \u001b[1;34m\"## The P0 Compiler\\n\"\u001b[0m\u001b[1;33m,\u001b[0m\u001b[1;33m\u001b[0m\u001b[1;33m\u001b[0m\u001b[0m\n",
      "\u001b[1;32m~\\Documents\\McMaster\\2022_Winter\\TB3\\group-08\\P0.ipynb\u001b[0m in \u001b[0;36mprogram\u001b[1;34m()\u001b[0m\n\u001b[0;32m      9\u001b[0m     \u001b[1;34m\"## The P0 Compiler\\n\"\u001b[0m\u001b[1;33m,\u001b[0m\u001b[1;33m\u001b[0m\u001b[1;33m\u001b[0m\u001b[0m\n\u001b[1;32m---> 10\u001b[1;33m     \u001b[1;34m\"#### COMP SCI 4TB3/6TB3, McMaster University\\n\"\u001b[0m\u001b[1;33m,\u001b[0m\u001b[1;33m\u001b[0m\u001b[1;33m\u001b[0m\u001b[0m\n\u001b[0m\u001b[0;32m     11\u001b[0m     \u001b[1;34m\"#### Emil Sekerinski, revised February 2022\"\u001b[0m\u001b[1;33m\u001b[0m\u001b[1;33m\u001b[0m\u001b[0m\n",
      "\u001b[1;32m~\\Documents\\McMaster\\2022_Winter\\TB3\\group-08\\P0.ipynb\u001b[0m in \u001b[0;36mdeclarations\u001b[1;34m(allocVar)\u001b[0m\n\u001b[0;32m     43\u001b[0m     \u001b[1;34m\"* _Type declaration_ (`t` type identifier, `T` type):\\n\"\u001b[0m\u001b[1;33m,\u001b[0m\u001b[1;33m\u001b[0m\u001b[1;33m\u001b[0m\u001b[0m\n\u001b[1;32m---> 44\u001b[1;33m     \u001b[1;34m\"      type t = T\\n\"\u001b[0m\u001b[1;33m,\u001b[0m\u001b[1;33m\u001b[0m\u001b[1;33m\u001b[0m\u001b[0m\n\u001b[0m\u001b[0;32m     45\u001b[0m     \u001b[1;34m\"* _Variable declaration_ (`x₁`, `x₂`, … variable identifiers, `T` type):\\n\"\u001b[0m\u001b[1;33m,\u001b[0m\u001b[1;33m\u001b[0m\u001b[1;33m\u001b[0m\u001b[0m\n",
      "\u001b[1;32m~\\Documents\\McMaster\\2022_Winter\\TB3\\group-08\\P0.ipynb\u001b[0m in \u001b[0;36mbody\u001b[1;34m(ident, parsize)\u001b[0m\n\u001b[0;32m      6\u001b[0m     \u001b[1;34m\"hidePrompt\"\u001b[0m\u001b[1;33m:\u001b[0m \u001b[0mtrue\u001b[0m\u001b[1;33m\u001b[0m\u001b[1;33m\u001b[0m\u001b[0m\n\u001b[1;32m----> 7\u001b[1;33m    },\n\u001b[0m\u001b[0;32m      8\u001b[0m    \"source\": [\n",
      "\u001b[1;32m~\\Documents\\McMaster\\2022_Winter\\TB3\\group-08\\P0.ipynb\u001b[0m in \u001b[0;36mstatementBlock\u001b[1;34m()\u001b[0m\n\u001b[0;32m      1\u001b[0m {\n\u001b[1;32m----> 2\u001b[1;33m  \"cells\": [\n\u001b[0m\u001b[0;32m      3\u001b[0m   {\n",
      "\u001b[1;32m~\\Documents\\McMaster\\2022_Winter\\TB3\\group-08\\P0.ipynb\u001b[0m in \u001b[0;36mstatementList\u001b[1;34m()\u001b[0m\n\u001b[0;32m      1\u001b[0m {\n\u001b[1;32m----> 2\u001b[1;33m  \"cells\": [\n\u001b[0m\u001b[0;32m      3\u001b[0m   {\n",
      "\u001b[1;32m~\\Documents\\McMaster\\2022_Winter\\TB3\\group-08\\P0.ipynb\u001b[0m in \u001b[0;36mstatement\u001b[1;34m()\u001b[0m\n\u001b[0;32m    102\u001b[0m    \"source\": [\n\u001b[1;32m--> 103\u001b[1;33m     \u001b[1;34m\"```Pascal\\n\"\u001b[0m\u001b[1;33m,\u001b[0m\u001b[1;33m\u001b[0m\u001b[1;33m\u001b[0m\u001b[0m\n\u001b[0m\u001b[0;32m    104\u001b[0m     \u001b[1;34m\"procedure fact(n: integer) → (f: integer)\\n\"\u001b[0m\u001b[1;33m,\u001b[0m\u001b[1;33m\u001b[0m\u001b[1;33m\u001b[0m\u001b[0m\n",
      "\u001b[1;32m~\\Documents\\McMaster\\2022_Winter\\TB3\\group-08\\CGwat.ipynb\u001b[0m in \u001b[0;36mgenEnsure\u001b[1;34m(x)\u001b[0m\n\u001b[0;32m    116\u001b[0m     \u001b[1;34m\"- `lev = -1`: `Int`, `Bool` variable allocated on the expression stack,\\n\"\u001b[0m\u001b[1;33m,\u001b[0m\u001b[1;33m\u001b[0m\u001b[1;33m\u001b[0m\u001b[0m\n\u001b[1;32m--> 117\u001b[1;33m     \u001b[1;34m\"- `lev = -2`: `Int`, `Bool`, `Array`, `Record` variable allocated in the WebAssembly memory, accessed by `adr`.\"\u001b[0m\u001b[1;33m\u001b[0m\u001b[1;33m\u001b[0m\u001b[0m\n\u001b[0m\u001b[0;32m    118\u001b[0m    ]\n",
      "\u001b[1;31mAttributeError\u001b[0m: 'tuple' object has no attribute 'append'",
      "\nDuring handling of the above exception, another exception occurred:\n",
      "\u001b[1;31mException\u001b[0m                                 Traceback (most recent call last)",
      "\u001b[1;32m~\\AppData\\Local\\Temp/ipykernel_5416/1156112560.py\u001b[0m in \u001b[0;36m<module>\u001b[1;34m\u001b[0m\n\u001b[1;32m----> 1\u001b[1;33m compileString(\"\"\"\n\u001b[0m\u001b[0;32m      2\u001b[0m \u001b[0mprocedure\u001b[0m \u001b[0mfact\u001b[0m\u001b[1;33m(\u001b[0m\u001b[0mn\u001b[0m\u001b[1;33m:\u001b[0m \u001b[0minteger\u001b[0m\u001b[1;33m)\u001b[0m\u001b[0;31m \u001b[0m\u001b[0;31m→\u001b[0m \u001b[1;33m(\u001b[0m\u001b[0mf\u001b[0m\u001b[1;33m:\u001b[0m \u001b[0minteger\u001b[0m\u001b[1;33m)\u001b[0m\u001b[1;33m\u001b[0m\u001b[1;33m\u001b[0m\u001b[0m\n\u001b[0;32m      3\u001b[0m     \u001b[0mensure\u001b[0m \u001b[0mn\u001b[0m \u001b[1;33m<\u001b[0m \u001b[1;36m5\u001b[0m\u001b[1;33m\u001b[0m\u001b[1;33m\u001b[0m\u001b[0m\n\u001b[0;32m      4\u001b[0m     \u001b[1;32mif\u001b[0m \u001b[0mn\u001b[0m \u001b[1;33m=\u001b[0m \u001b[1;36m0\u001b[0m \u001b[0mthen\u001b[0m \u001b[0mf\u001b[0m \u001b[1;33m:=\u001b[0m \u001b[1;36m1\u001b[0m\u001b[1;33m\u001b[0m\u001b[1;33m\u001b[0m\u001b[0m\n\u001b[0;32m      5\u001b[0m     \u001b[1;32melse\u001b[0m\u001b[1;33m\u001b[0m\u001b[1;33m\u001b[0m\u001b[0m\n",
      "\u001b[1;32m~\\Documents\\McMaster\\2022_Winter\\TB3\\group-08\\P0.ipynb\u001b[0m in \u001b[0;36mcompileString\u001b[1;34m(src, dstfn, target)\u001b[0m\n\u001b[0;32m     11\u001b[0m     \u001b[1;34m\"#### Emil Sekerinski, revised February 2022\"\u001b[0m\u001b[1;33m\u001b[0m\u001b[1;33m\u001b[0m\u001b[0m\n\u001b[0;32m     12\u001b[0m    ]\n\u001b[1;32m---> 13\u001b[1;33m   },\n\u001b[0m\u001b[0;32m     14\u001b[0m   {\n\u001b[0;32m     15\u001b[0m    \u001b[1;34m\"cell_type\"\u001b[0m\u001b[1;33m:\u001b[0m \u001b[1;34m\"markdown\"\u001b[0m\u001b[1;33m,\u001b[0m\u001b[1;33m\u001b[0m\u001b[1;33m\u001b[0m\u001b[0m\n",
      "\u001b[1;31mException\u001b[0m: 'tuple' object has no attribute 'append'"
     ]
    }
   ],
   "source": [
    "compileString(\"\"\"\n",
    "procedure fact(n: integer) → (f: integer)\n",
    "    ensure n < 5\n",
    "    if n = 0 then f := 1\n",
    "    else\n",
    "        f ← fact(n - 1); f := f × n\n",
    "\n",
    "program factorial\n",
    "    var y, z: integer\n",
    "        y ← read(); z ← fact(y); write(z)\n",
    "        \n",
    "\"\"\", 'testensure2.wat')"
   ]
  },
  {
   "cell_type": "code",
   "execution_count": 23,
   "metadata": {},
   "outputs": [],
   "source": [
    "# !type testensure2.wat"
   ]
  },
  {
   "cell_type": "code",
   "execution_count": 21,
   "metadata": {},
   "outputs": [],
   "source": [
    "!wsl.exe wat2wasm testensure2.wat"
   ]
  },
  {
   "cell_type": "code",
   "execution_count": 22,
   "metadata": {},
   "outputs": [
    {
     "data": {
      "application/javascript": "\n    const params = { \n        P0lib: { \n            write: i => this.append_stream({text: '' + i, name: 'stdout'}),\n            writeln: () => this.append_stream({text: '\\n', name: 'stdout'}),\n            read: () => window.prompt()\n        }\n    }\n\n    fetch('testensure2.wasm') // asynchronously fetch file, return Response object\n      .then(response => response.arrayBuffer()) // read the response to completion and stores it in an ArrayBuffer\n      .then(code => WebAssembly.compile(code)) // compile (sharable) code.wasm\n      .then(module => WebAssembly.instantiate(module, params)) // create an instance with memory\n    // .then(instance => instance.exports.program()); // run the main program; not needed if start function specified\n    ",
      "text/plain": [
       "<IPython.core.display.Javascript object>"
      ]
     },
     "metadata": {},
     "output_type": "display_data"
    }
   ],
   "source": [
    "runwasm(\"testensure2.wasm\")"
   ]
  },
  {
   "cell_type": "markdown",
   "metadata": {},
   "source": [
    "### Test Invariant"
   ]
  },
  {
   "cell_type": "code",
   "execution_count": 83,
   "metadata": {},
   "outputs": [],
   "source": [
    "compileString(\"\"\"\n",
    "procedure proc() → (q: integer)\n",
    "    var x: integer\n",
    "        q := 5\n",
    "        x := 3\n",
    "        invariant x > 1\n",
    "        while x ≥ 0 do\n",
    "            q := q + 1\n",
    "            x := x - 1\n",
    "program test\n",
    "    var j: integer\n",
    "    j ← proc()\n",
    "    write(j)\n",
    "\"\"\", 'test2.wat')"
   ]
  },
  {
   "cell_type": "code",
   "execution_count": 3,
   "metadata": {},
   "outputs": [
    {
     "name": "stdout",
     "output_type": "stream",
     "text": [
      "(module\r\n",
      "(import \"P0lib\" \"write\" (func $write (param i32)))\r\n",
      "(import \"P0lib\" \"writeln\" (func $writeln))\r\n",
      "(import \"P0lib\" \"read\" (func $read (result i32)))\r\n",
      "(func $proc  (result i32)\r\n",
      "(local $q i32)\r\n",
      "(local $x i32)\r\n",
      "(local $0 i32)\r\n",
      "i32.const 5\r\n",
      "local.set $q\r\n",
      "i32.const 3\r\n",
      "local.set $x\r\n",
      "loop\r\n",
      "local.get $x\r\n",
      "i32.const 0\r\n",
      "i32.ge_s\r\n",
      "if\r\n",
      "local.get $x\r\n",
      "i32.const 1\r\n",
      "i32.gt_s\r\n",
      "if\r\n",
      "local.get $q\r\n",
      "i32.const 1\r\n",
      "i32.add\r\n",
      "local.set $q\r\n",
      "local.get $x\r\n",
      "i32.const 1\r\n",
      "i32.sub\r\n",
      "local.set $x\r\n",
      "else\r\n",
      "unreachable\r\n",
      "end\r\n",
      "br 1\r\n",
      "end\r\n",
      "end\r\n",
      "local.get $q)\r\n",
      "(func $program\r\n",
      "(local $j i32)\r\n",
      "(local $0 i32)\r\n",
      "call $proc\r\n",
      "local.set $j\r\n",
      "local.get $j\r\n",
      "call $write\r\n",
      ")\r\n",
      "(memory 1)\r\n",
      "(start $program)\r\n",
      ")"
     ]
    }
   ],
   "source": [
    "!cat test2.wat"
   ]
  },
  {
   "cell_type": "code",
   "execution_count": 5,
   "metadata": {},
   "outputs": [],
   "source": [
    "!wat2wasm test2.wat"
   ]
  },
  {
   "cell_type": "code",
   "execution_count": 6,
   "metadata": {},
   "outputs": [
    {
     "data": {
      "application/javascript": "\n    const params = { \n        P0lib: { \n            write: i => this.append_stream({text: '' + i, name: 'stdout'}),\n            writeln: () => this.append_stream({text: '\\n', name: 'stdout'}),\n            read: () => window.prompt()\n        }\n    }\n\n    fetch('test2.wasm') // asynchronously fetch file, return Response object\n      .then(response => response.arrayBuffer()) // read the response to completion and stores it in an ArrayBuffer\n      .then(code => WebAssembly.compile(code)) // compile (sharable) code.wasm\n      .then(module => WebAssembly.instantiate(module, params)) // create an instance with memory\n    // .then(instance => instance.exports.program()); // run the main program; not needed if start function specified\n    ",
      "text/plain": [
       "<IPython.core.display.Javascript object>"
      ]
     },
     "metadata": {},
     "output_type": "display_data"
    }
   ],
   "source": [
    "runwasm(\"test2.wasm\")"
   ]
  },
  {
   "cell_type": "code",
   "execution_count": 7,
   "metadata": {},
   "outputs": [],
   "source": [
    "compileString(\"\"\"\n",
    "procedure proc() → (q: integer)\n",
    "    var x: integer\n",
    "        q := 5\n",
    "        x := 3\n",
    "        require x > 0\n",
    "        while x ≥ 0 do\n",
    "            q := q + 1\n",
    "            x := x - 1\n",
    "program test\n",
    "    var j: integer\n",
    "    j ← proc()\n",
    "    write(j)\n",
    "\"\"\", 'test2.wat')"
   ]
  },
  {
   "cell_type": "code",
   "execution_count": 22,
   "metadata": {},
   "outputs": [],
   "source": [
    "!wat2wasm test2.wat"
   ]
  },
  {
   "cell_type": "code",
   "execution_count": 23,
   "metadata": {},
   "outputs": [
    {
     "data": {
      "application/javascript": "\n    const params = { \n        P0lib: { \n            write: i => this.append_stream({text: '' + i, name: 'stdout'}),\n            writeln: () => this.append_stream({text: '\\n', name: 'stdout'}),\n            read: () => window.prompt()\n        }\n    }\n\n    fetch('test2.wasm') // asynchronously fetch file, return Response object\n      .then(response => response.arrayBuffer()) // read the response to completion and stores it in an ArrayBuffer\n      .then(code => WebAssembly.compile(code)) // compile (sharable) code.wasm\n      .then(module => WebAssembly.instantiate(module, params)) // create an instance with memory\n    // .then(instance => instance.exports.program()); // run the main program; not needed if start function specified\n    ",
      "text/plain": [
       "<IPython.core.display.Javascript object>"
      ]
     },
     "metadata": {},
     "output_type": "display_data"
    }
   ],
   "source": [
    "runwasm(\"test2.wasm\")"
   ]
  },
  {
   "cell_type": "code",
   "execution_count": null,
   "metadata": {},
   "outputs": [],
   "source": []
  },
  {
   "cell_type": "code",
   "execution_count": null,
   "metadata": {},
   "outputs": [],
   "source": []
  },
  {
   "cell_type": "markdown",
   "metadata": {},
   "source": [
    "# Test Require"
   ]
  },
  {
   "cell_type": "code",
   "execution_count": null,
   "metadata": {},
   "outputs": [],
   "source": [
    "# Test: proper usage example 1\n",
    "compileString(\"\"\"\n",
    "procedure reqhere (x: integer) → (q : integer)\n",
    "    require (x > 5) and (x <7) \n",
    "    q := x\n",
    "    write(x)\n",
    "\n",
    "program test\n",
    "  var x , y: integer\n",
    "    x ← read()\n",
    "    y ← reqhere(x)\n",
    "    write(y)\n",
    "\"\"\", 'require_test1.wat')"
   ]
  },
  {
   "cell_type": "code",
   "execution_count": null,
   "metadata": {},
   "outputs": [],
   "source": [
    "!wat2wasm require_test1.wat\n",
    "runwasm(\"require_test1.wasm\")"
   ]
  },
  {
   "cell_type": "code",
   "execution_count": null,
   "metadata": {},
   "outputs": [],
   "source": [
    "# Test: proper usage example 2 \n",
    "compileString(\"\"\"\n",
    "procedure reqhere (x, y: integer) → (q : integer)\n",
    "    require (x > 5) or (y <7) \n",
    "    q := x\n",
    "    write(x)\n",
    "\n",
    "program test\n",
    "  var x , z: integer\n",
    "    x ← read()\n",
    "    y ← read()\n",
    "    z ← reqhere(x)\n",
    "    write(z)\n",
    "\"\"\", 'require_test2.wat')"
   ]
  },
  {
   "cell_type": "code",
   "execution_count": null,
   "metadata": {},
   "outputs": [],
   "source": [
    "!wat2wasm require_test2.wat\n",
    "runwasm(\"require_test2.wasm\")"
   ]
  },
  {
   "cell_type": "code",
   "execution_count": null,
   "metadata": {},
   "outputs": [],
   "source": [
    "# Test: improper usage example 1\n",
    "compileString(\"\"\"\n",
    "procedure reqhere (x, y: integer) → (q : integer)\n",
    "    q := x\n",
    "    require (x > 5) or (y <7) \n",
    "    write(x)\n",
    "\n",
    "program test\n",
    "  var x , z: integer\n",
    "    x ← read()\n",
    "    y ← read()\n",
    "    z ← reqhere(x)\n",
    "    write(z)\n",
    "\"\"\", 'require_test3.wat')"
   ]
  },
  {
   "cell_type": "code",
   "execution_count": null,
   "metadata": {},
   "outputs": [],
   "source": [
    "# should return error\n",
    "!wat2wasm require_test3.wat\n",
    "runwasm(\"require_test3.wasm\")"
   ]
  },
  {
   "cell_type": "code",
   "execution_count": null,
   "metadata": {},
   "outputs": [],
   "source": [
    "# Test: improper usage example 2\n",
    "compileString(\"\"\"\n",
    "procedure reqhere (x, y: integer) → (q : integer)\n",
    "    q := x\n",
    "    write(x)\n",
    "\n",
    "program test\n",
    "  var x , z: integer\n",
    "    x ← read()\n",
    "    y ← read()\n",
    "    require (x > 5) or (y <7) \n",
    "    z ← reqhere(x)\n",
    "    write(z)\n",
    "\"\"\", 'require_test4.wat')"
   ]
  },
  {
   "cell_type": "code",
   "execution_count": null,
   "metadata": {},
   "outputs": [],
   "source": [
    "# should return error\n",
    "!wat2wasm require_test4.wat\n",
    "runwasm(\"require_test4.wasm\")"
   ]
  }
 ],
 "metadata": {
  "kernelspec": {
   "display_name": "Python 3 (ipykernel)",
   "language": "python",
   "name": "python3"
  },
  "language_info": {
   "codemirror_mode": {
    "name": "ipython",
    "version": 3
   },
   "file_extension": ".py",
   "mimetype": "text/x-python",
   "name": "python",
   "nbconvert_exporter": "python",
   "pygments_lexer": "ipython3",
   "version": "3.9.7"
  }
 },
 "nbformat": 4,
 "nbformat_minor": 4
}
